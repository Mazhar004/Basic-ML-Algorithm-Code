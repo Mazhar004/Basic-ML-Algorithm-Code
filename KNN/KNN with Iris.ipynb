{
 "cells": [
  {
   "cell_type": "markdown",
   "metadata": {},
   "source": [
    "# 1. Import Library"
   ]
  },
  {
   "cell_type": "code",
   "execution_count": 1,
   "metadata": {
    "ExecuteTime": {
     "end_time": "2020-01-06T13:31:23.485247Z",
     "start_time": "2020-01-06T13:31:20.925649Z"
    }
   },
   "outputs": [],
   "source": [
    "import numpy as np\n",
    "from sklearn.datasets import load_iris\n",
    "\n",
    "from sklearn.model_selection import train_test_split as tts"
   ]
  },
  {
   "cell_type": "markdown",
   "metadata": {},
   "source": [
    "# 2. Load & Split iris Data"
   ]
  },
  {
   "cell_type": "code",
   "execution_count": 2,
   "metadata": {
    "ExecuteTime": {
     "end_time": "2020-01-06T13:31:23.503249Z",
     "start_time": "2020-01-06T13:31:23.489248Z"
    }
   },
   "outputs": [],
   "source": [
    "iris = load_iris()\n",
    "x_train, x_test, y_train, y_test = tts(iris.data, iris.target, test_size=.2,random_state=0)"
   ]
  },
  {
   "cell_type": "markdown",
   "metadata": {},
   "source": [
    "# 3. KNN Class Build"
   ]
  },
  {
   "cell_type": "code",
   "execution_count": 3,
   "metadata": {
    "ExecuteTime": {
     "end_time": "2020-01-06T13:31:23.590231Z",
     "start_time": "2020-01-06T13:31:23.511244Z"
    }
   },
   "outputs": [],
   "source": [
    "class knn:\n",
    "    def __init__(self, point):\n",
    "        self.x = None\n",
    "        self.y = None\n",
    "        self.point = point\n",
    "\n",
    "    def fit(self, x, y):\n",
    "        self.x = x\n",
    "        self.y = y\n",
    "\n",
    "    def predict(self, x):\n",
    "        res = np.zeros((x.shape[0]))\n",
    "        for i in range(x.shape[0]):\n",
    "            temp = []\n",
    "            for j in range(self.x.shape[0]):\n",
    "                temp.append([sum((self.x[j]-x[i])**2), self.y[j]])\n",
    "            temp = [i[1] for i in sorted(temp, key=lambda x:x[0])[:self.point]]\n",
    "            res[i] = sorted(temp, key=lambda x: -temp.count(x))[0]\n",
    "        return res"
   ]
  },
  {
   "cell_type": "markdown",
   "metadata": {},
   "source": [
    "# 4. Knn Class Initialize\n",
    "\n",
    "## k = \"k\" is number of neighbours used to take decision\n",
    "## k = \"k\" is always an odd number"
   ]
  },
  {
   "cell_type": "code",
   "execution_count": 4,
   "metadata": {
    "ExecuteTime": {
     "end_time": "2020-01-06T13:31:23.726209Z",
     "start_time": "2020-01-06T13:31:23.598231Z"
    }
   },
   "outputs": [],
   "source": [
    "a = knn(3)\n",
    "a.fit(x_train, y_train)"
   ]
  },
  {
   "cell_type": "markdown",
   "metadata": {},
   "source": [
    "# 5. Model Performance"
   ]
  },
  {
   "cell_type": "code",
   "execution_count": 5,
   "metadata": {
    "ExecuteTime": {
     "end_time": "2020-01-06T13:31:23.902184Z",
     "start_time": "2020-01-06T13:31:23.730226Z"
    }
   },
   "outputs": [
    {
     "name": "stdout",
     "output_type": "stream",
     "text": [
      "Accuracy = 96.67%\n"
     ]
    }
   ],
   "source": [
    "y_pred = a.predict(x_test)\n",
    "\n",
    "accuracy = np.mean(y_pred==y_test)\n",
    "print(\"Accuracy = {:.2f}%\".format(accuracy*100))"
   ]
  }
 ],
 "metadata": {
  "kernelspec": {
   "display_name": "Python 3",
   "language": "python",
   "name": "python3"
  },
  "language_info": {
   "codemirror_mode": {
    "name": "ipython",
    "version": 3
   },
   "file_extension": ".py",
   "mimetype": "text/x-python",
   "name": "python",
   "nbconvert_exporter": "python",
   "pygments_lexer": "ipython3",
   "version": "3.7.3"
  },
  "varInspector": {
   "cols": {
    "lenName": 16,
    "lenType": 16,
    "lenVar": 40
   },
   "kernels_config": {
    "python": {
     "delete_cmd_postfix": "",
     "delete_cmd_prefix": "del ",
     "library": "var_list.py",
     "varRefreshCmd": "print(var_dic_list())"
    },
    "r": {
     "delete_cmd_postfix": ") ",
     "delete_cmd_prefix": "rm(",
     "library": "var_list.r",
     "varRefreshCmd": "cat(var_dic_list()) "
    }
   },
   "types_to_exclude": [
    "module",
    "function",
    "builtin_function_or_method",
    "instance",
    "_Feature"
   ],
   "window_display": false
  }
 },
 "nbformat": 4,
 "nbformat_minor": 2
}
