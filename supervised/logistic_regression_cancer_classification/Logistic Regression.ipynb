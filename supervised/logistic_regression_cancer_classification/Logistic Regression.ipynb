{
 "cells": [
  {
   "cell_type": "markdown",
   "metadata": {},
   "source": [
    "# Import Library"
   ]
  },
  {
   "cell_type": "code",
   "execution_count": 1,
   "metadata": {
    "ExecuteTime": {
     "end_time": "2019-12-20T17:18:32.957168Z",
     "start_time": "2019-12-20T17:18:31.620307Z"
    }
   },
   "outputs": [],
   "source": [
    "import pandas as pd\n",
    "import numpy as np\n",
    "import matplotlib.pyplot as plt"
   ]
  },
  {
   "cell_type": "markdown",
   "metadata": {},
   "source": [
    "# Data Loading"
   ]
  },
  {
   "cell_type": "code",
   "execution_count": 2,
   "metadata": {
    "ExecuteTime": {
     "end_time": "2019-12-20T17:18:33.331043Z",
     "start_time": "2019-12-20T17:18:32.961097Z"
    }
   },
   "outputs": [
    {
     "data": {
      "text/html": [
       "<div>\n",
       "<style scoped>\n",
       "    .dataframe tbody tr th:only-of-type {\n",
       "        vertical-align: middle;\n",
       "    }\n",
       "\n",
       "    .dataframe tbody tr th {\n",
       "        vertical-align: top;\n",
       "    }\n",
       "\n",
       "    .dataframe thead th {\n",
       "        text-align: right;\n",
       "    }\n",
       "</style>\n",
       "<table border=\"1\" class=\"dataframe\">\n",
       "  <thead>\n",
       "    <tr style=\"text-align: right;\">\n",
       "      <th></th>\n",
       "      <th>0</th>\n",
       "      <th>1</th>\n",
       "      <th>2</th>\n",
       "      <th>3</th>\n",
       "      <th>4</th>\n",
       "      <th>5</th>\n",
       "      <th>6</th>\n",
       "      <th>7</th>\n",
       "      <th>8</th>\n",
       "      <th>9</th>\n",
       "      <th>10</th>\n",
       "    </tr>\n",
       "  </thead>\n",
       "  <tbody>\n",
       "    <tr>\n",
       "      <th>0</th>\n",
       "      <td>1000025</td>\n",
       "      <td>5</td>\n",
       "      <td>1</td>\n",
       "      <td>1</td>\n",
       "      <td>1</td>\n",
       "      <td>2</td>\n",
       "      <td>1.0</td>\n",
       "      <td>3</td>\n",
       "      <td>1</td>\n",
       "      <td>1</td>\n",
       "      <td>2</td>\n",
       "    </tr>\n",
       "    <tr>\n",
       "      <th>1</th>\n",
       "      <td>1002945</td>\n",
       "      <td>5</td>\n",
       "      <td>4</td>\n",
       "      <td>4</td>\n",
       "      <td>5</td>\n",
       "      <td>7</td>\n",
       "      <td>10.0</td>\n",
       "      <td>3</td>\n",
       "      <td>2</td>\n",
       "      <td>1</td>\n",
       "      <td>2</td>\n",
       "    </tr>\n",
       "    <tr>\n",
       "      <th>2</th>\n",
       "      <td>1015425</td>\n",
       "      <td>3</td>\n",
       "      <td>1</td>\n",
       "      <td>1</td>\n",
       "      <td>1</td>\n",
       "      <td>2</td>\n",
       "      <td>2.0</td>\n",
       "      <td>3</td>\n",
       "      <td>1</td>\n",
       "      <td>1</td>\n",
       "      <td>2</td>\n",
       "    </tr>\n",
       "    <tr>\n",
       "      <th>3</th>\n",
       "      <td>1016277</td>\n",
       "      <td>6</td>\n",
       "      <td>8</td>\n",
       "      <td>8</td>\n",
       "      <td>1</td>\n",
       "      <td>3</td>\n",
       "      <td>4.0</td>\n",
       "      <td>3</td>\n",
       "      <td>7</td>\n",
       "      <td>1</td>\n",
       "      <td>2</td>\n",
       "    </tr>\n",
       "    <tr>\n",
       "      <th>4</th>\n",
       "      <td>1017023</td>\n",
       "      <td>4</td>\n",
       "      <td>1</td>\n",
       "      <td>1</td>\n",
       "      <td>3</td>\n",
       "      <td>2</td>\n",
       "      <td>1.0</td>\n",
       "      <td>3</td>\n",
       "      <td>1</td>\n",
       "      <td>1</td>\n",
       "      <td>2</td>\n",
       "    </tr>\n",
       "  </tbody>\n",
       "</table>\n",
       "</div>"
      ],
      "text/plain": [
       "        0   1   2   3   4   5     6   7   8   9   10\n",
       "0  1000025   5   1   1   1   2   1.0   3   1   1   2\n",
       "1  1002945   5   4   4   5   7  10.0   3   2   1   2\n",
       "2  1015425   3   1   1   1   2   2.0   3   1   1   2\n",
       "3  1016277   6   8   8   1   3   4.0   3   7   1   2\n",
       "4  1017023   4   1   1   3   2   1.0   3   1   1   2"
      ]
     },
     "execution_count": 2,
     "metadata": {},
     "output_type": "execute_result"
    }
   ],
   "source": [
    "missing_values = [\"n/a\", \"na\", \"?\", \"--\"]\n",
    "\n",
    "filename = 'breast-cancer-wisconsin.data'\n",
    "data = pd.read_csv(filename, header=None, na_values=missing_values)\n",
    "\n",
    "data.head()"
   ]
  },
  {
   "cell_type": "markdown",
   "metadata": {},
   "source": [
    "# 1. Data Split"
   ]
  },
  {
   "cell_type": "code",
   "execution_count": 3,
   "metadata": {
    "ExecuteTime": {
     "end_time": "2019-12-20T17:18:33.522011Z",
     "start_time": "2019-12-20T17:18:33.336037Z"
    }
   },
   "outputs": [
    {
     "name": "stdout",
     "output_type": "stream",
     "text": [
      "Train Data Shape = (559, 11)\n",
      "Test  Data Shape = (140, 11)\n"
     ]
    }
   ],
   "source": [
    "def data_split(data, frac=0.8):\n",
    "\n",
    "    train = data.sample(frac=frac, random_state=3)\n",
    "    test = data.drop(train.index)\n",
    "\n",
    "    return train, test\n",
    "\n",
    "\n",
    "train, test = data_split(data)\n",
    "print('Train Data Shape = {}\\nTest  Data Shape = {}'.format(train.shape, test.shape))"
   ]
  },
  {
   "cell_type": "markdown",
   "metadata": {},
   "source": [
    "# 2. Data Preprocess\n",
    "## 2.1 Remove ID Column\n",
    "## 2.2 Seperate feature & label\n"
   ]
  },
  {
   "cell_type": "code",
   "execution_count": 4,
   "metadata": {
    "ExecuteTime": {
     "end_time": "2019-12-20T17:18:33.550005Z",
     "start_time": "2019-12-20T17:18:33.529007Z"
    }
   },
   "outputs": [],
   "source": [
    "def data_prepare(data, flag=1):\n",
    "    if flag:\n",
    "        data_x = pd.DataFrame(data.iloc[:, 1:-1])\n",
    "        data_y = pd.DataFrame(data.iloc[:, -1:])\n",
    "\n",
    "        data_y = pd.DataFrame(data_y.replace(to_replace=[2, 4], value=[0, 1]))\n",
    "        return data_x, data_y.values\n",
    "    else:\n",
    "        data_x = pd.DataFrame(data.iloc[:, 1:])\n",
    "        return data_x\n",
    "\n",
    "\n",
    "df_train_x, train_y = data_prepare(train)\n",
    "df_test_x, test_y = data_prepare(test)"
   ]
  },
  {
   "cell_type": "markdown",
   "metadata": {},
   "source": [
    "# 2. Data Preprocess\n",
    "## 2.3 Data type conversion\n",
    "## 2.4 Missing value replace with mean"
   ]
  },
  {
   "cell_type": "code",
   "execution_count": 5,
   "metadata": {
    "ExecuteTime": {
     "end_time": "2019-12-20T17:18:33.824977Z",
     "start_time": "2019-12-20T17:18:33.555008Z"
    }
   },
   "outputs": [
    {
     "name": "stdout",
     "output_type": "stream",
     "text": [
      "(559, 10) (140, 10)\n"
     ]
    }
   ],
   "source": [
    "def preprocess(data):\n",
    "    m, n = data.shape\n",
    "    new_data = pd.DataFrame()\n",
    "\n",
    "    for i in data:\n",
    "        new_data[i] = data[i].astype('float32')\n",
    "        new_data[i] = new_data[i].fillna(new_data[i].mean())\n",
    "    new_data = np.concatenate([np.ones((m, 1)), new_data.values], axis=1)\n",
    "\n",
    "    return new_data\n",
    "\n",
    "\n",
    "train_x = preprocess(df_train_x)\n",
    "test_x = preprocess(df_test_x)\n",
    "print(train_x.shape, test_x.shape)"
   ]
  },
  {
   "cell_type": "code",
   "execution_count": 6,
   "metadata": {
    "ExecuteTime": {
     "end_time": "2019-12-20T17:18:33.847961Z",
     "start_time": "2019-12-20T17:18:33.833961Z"
    }
   },
   "outputs": [],
   "source": [
    "def sigmoid(z):\n",
    "    return (1/(1+np.exp(-z)))"
   ]
  },
  {
   "cell_type": "code",
   "execution_count": 7,
   "metadata": {
    "ExecuteTime": {
     "end_time": "2019-12-20T17:18:33.943955Z",
     "start_time": "2019-12-20T17:18:33.853957Z"
    }
   },
   "outputs": [],
   "source": [
    "def predict(x, theta):\n",
    "    z = np.matmul(x, theta.T)\n",
    "    return sigmoid(z)"
   ]
  },
  {
   "cell_type": "markdown",
   "metadata": {},
   "source": [
    "# 3. Cost Calculation"
   ]
  },
  {
   "cell_type": "code",
   "execution_count": 8,
   "metadata": {
    "ExecuteTime": {
     "end_time": "2019-12-20T17:18:34.054926Z",
     "start_time": "2019-12-20T17:18:33.953942Z"
    }
   },
   "outputs": [],
   "source": [
    "def cost(x, y, theta):\n",
    "    m, n = x.shape\n",
    "    pred_val = predict(x, theta)\n",
    "    error = (-1/m) * np.sum(y*np.log(pred_val)+(1-y)*np.log(1-pred_val))\n",
    "    return error"
   ]
  },
  {
   "cell_type": "markdown",
   "metadata": {},
   "source": [
    "# 4. Gradient Descent Optimization"
   ]
  },
  {
   "cell_type": "code",
   "execution_count": 9,
   "metadata": {
    "ExecuteTime": {
     "end_time": "2019-12-20T17:18:34.168908Z",
     "start_time": "2019-12-20T17:18:34.057925Z"
    }
   },
   "outputs": [],
   "source": [
    "def optimize(x, y, theta, alpha=0.001, epoch=100000, flag=0):\n",
    "    \"\"\"\n",
    "        Set flag = 1 for plotting error curve\n",
    "    \"\"\"\n",
    "    if flag:\n",
    "        plt.figure(figsize=(10, 5))\n",
    "        error_list = []\n",
    "\n",
    "    m, n = x.shape\n",
    "\n",
    "    for i in range(epoch):\n",
    "\n",
    "        error = predict(x, theta)-y\n",
    "        differentiate = np.matmul(error.T, x)\n",
    "        theta -= (alpha*differentiate)/m\n",
    "\n",
    "        if flag:\n",
    "            error_list.append(cost(x, y, theta))\n",
    "    if flag:\n",
    "        plt.title('Error Curve')\n",
    "        plt.plot(range(epoch), error_list, linewidth=3)\n",
    "        plt.ylabel(\"Error\")\n",
    "        plt.xlabel(\"Epochs\")\n",
    "        plt.show()\n",
    "\n",
    "    return theta"
   ]
  },
  {
   "cell_type": "code",
   "execution_count": 10,
   "metadata": {
    "ExecuteTime": {
     "end_time": "2019-12-20T17:18:37.039476Z",
     "start_time": "2019-12-20T17:18:34.172909Z"
    }
   },
   "outputs": [
    {
     "data": {
      "image/png": "[encoded data removed]",
      "text/plain": [
       "<Figure size 720x360 with 1 Axes>"
      ]
     },
     "metadata": {
      "needs_background": "light"
     },
     "output_type": "display_data"
    }
   ],
   "source": [
    "m, n = train_x.shape\n",
    "theta = np.zeros((1, n))\n",
    "theta = optimize(train_x, train_y, theta, 0.01, 10000, flag=1)"
   ]
  },
  {
   "cell_type": "markdown",
   "metadata": {},
   "source": [
    "# 5. Decision Boundry"
   ]
  },
  {
   "cell_type": "code",
   "execution_count": 11,
   "metadata": {
    "ExecuteTime": {
     "end_time": "2019-12-20T17:18:37.055459Z",
     "start_time": "2019-12-20T17:18:37.047471Z"
    }
   },
   "outputs": [],
   "source": [
    "def decision(x, theta):\n",
    "    y = predict(x, theta)\n",
    "    return np.where(y >= 0.5, 1, 0)"
   ]
  },
  {
   "cell_type": "markdown",
   "metadata": {},
   "source": [
    "# 6. Model Performance"
   ]
  },
  {
   "cell_type": "code",
   "execution_count": 12,
   "metadata": {
    "ExecuteTime": {
     "end_time": "2019-12-20T17:18:37.166441Z",
     "start_time": "2019-12-20T17:18:37.060475Z"
    }
   },
   "outputs": [],
   "source": [
    "def accuracy(test_x, tes_y, theta):\n",
    "    TP, TN, FP, FN = 0, 0, 0, 0\n",
    "\n",
    "    for i in range(len(test_x)):\n",
    "        pred = decision(test_x[i], theta)\n",
    "        if test_y[i] == pred:\n",
    "            TP, TN = (TP, TN+1) if pred == 0 else (TP+1, TN)\n",
    "        else:\n",
    "            FP, FN = (FP, FN+1) if pred == 0 else (FP+1, FN)\n",
    "\n",
    "    print(\"TP = {}\\nTN = {}\\nFP = {}\\nFN = {}\\n\".format(TP, TN, FP, FN))\n",
    "\n",
    "    precision = round(TP/(TP+FP)*100, 2)\n",
    "    recall = round(TP/(TP+FN)*100, 2)\n",
    "    f1_score = round((2*precision*recall)/(precision+recall), 2)\n",
    "    accuracy = round((TP+TN)/(TP+TN+FP+FN)*100, 2)\n",
    "\n",
    "    return 'Precision = {}%\\nRecall    = {}%\\nF1 Score  = {}%\\nAccuracy  = {}%'.format(precision, recall, f1_score, accuracy)"
   ]
  },
  {
   "cell_type": "code",
   "execution_count": 13,
   "metadata": {
    "ExecuteTime": {
     "end_time": "2019-12-20T17:18:37.331429Z",
     "start_time": "2019-12-20T17:18:37.169438Z"
    },
    "scrolled": true
   },
   "outputs": [
    {
     "name": "stdout",
     "output_type": "stream",
     "text": [
      "TP = 38\n",
      "TN = 99\n",
      "FP = 2\n",
      "FN = 1\n",
      "\n",
      "Precision = 95.0%\n",
      "Recall    = 97.44%\n",
      "F1 Score  = 96.2%\n",
      "Accuracy  = 97.86%\n"
     ]
    }
   ],
   "source": [
    "print(accuracy(test_x, test_y, theta))"
   ]
  },
  {
   "cell_type": "markdown",
   "metadata": {},
   "source": [
    "# 7. Check Predicted Class Name"
   ]
  },
  {
   "cell_type": "code",
   "execution_count": 16,
   "metadata": {
    "ExecuteTime": {
     "end_time": "2019-12-20T17:19:11.173120Z",
     "start_time": "2019-12-20T17:19:11.162124Z"
    },
    "scrolled": true
   },
   "outputs": [
    {
     "name": "stdout",
     "output_type": "stream",
     "text": [
      "For test case 1  Disease Name = Benign\n",
      "For test case 11 Disease Name = Malignant\n"
     ]
    }
   ],
   "source": [
    "def output_class(row, theta):\n",
    "    class_name = ['Benign', 'Malignant']\n",
    "    result = decision(row, theta)\n",
    "    return class_name[result[0]]\n",
    "\n",
    "\n",
    "print(\"For test case {}  Disease Name = {}\".format(1, output_class(test_x[0, :], theta)))\n",
    "print(\"For test case {} Disease Name = {}\".format(11, output_class(test_x[10, :], theta)))"
   ]
  }
 ],
 "metadata": {
  "kernelspec": {
   "display_name": "Python 3",
   "language": "python",
   "name": "python3"
  },
  "language_info": {
   "codemirror_mode": {
    "name": "ipython",
    "version": 3
   },
   "file_extension": ".py",
   "mimetype": "text/x-python",
   "name": "python",
   "nbconvert_exporter": "python",
   "pygments_lexer": "ipython3",
   "version": "3.7.3"
  }
 },
 "nbformat": 4,
 "nbformat_minor": 2
}
