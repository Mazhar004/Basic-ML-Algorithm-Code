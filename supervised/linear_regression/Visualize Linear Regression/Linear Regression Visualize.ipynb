{
 "cells": [
  {
   "cell_type": "markdown",
   "metadata": {},
   "source": [
    "# 1. Import Library"
   ]
  },
  {
   "cell_type": "code",
   "execution_count": 1,
   "metadata": {
    "ExecuteTime": {
     "end_time": "2020-01-24T16:04:42.656382Z",
     "start_time": "2020-01-24T16:04:39.140855Z"
    }
   },
   "outputs": [],
   "source": [
    "import pandas as pd\n",
    "import numpy as np\n",
    "\n",
    "from sklearn.preprocessing import StandardScaler as sc\n",
    "from sklearn.model_selection import train_test_split as tts\n",
    "\n",
    "import matplotlib.pyplot as plt\n",
    "from IPython.display import display, clear_output"
   ]
  },
  {
   "cell_type": "markdown",
   "metadata": {},
   "source": [
    "# 2. Data Load"
   ]
  },
  {
   "cell_type": "code",
   "execution_count": 2,
   "metadata": {
    "ExecuteTime": {
     "end_time": "2020-01-24T16:04:42.687612Z",
     "start_time": "2020-01-24T16:04:42.656382Z"
    },
    "scrolled": true
   },
   "outputs": [
    {
     "data": {
      "text/html": [
       "<div>\n",
       "<style scoped>\n",
       "    .dataframe tbody tr th:only-of-type {\n",
       "        vertical-align: middle;\n",
       "    }\n",
       "\n",
       "    .dataframe tbody tr th {\n",
       "        vertical-align: top;\n",
       "    }\n",
       "\n",
       "    .dataframe thead th {\n",
       "        text-align: right;\n",
       "    }\n",
       "</style>\n",
       "<table border=\"1\" class=\"dataframe\">\n",
       "  <thead>\n",
       "    <tr style=\"text-align: right;\">\n",
       "      <th></th>\n",
       "      <th>YearsExperience</th>\n",
       "      <th>Salary</th>\n",
       "    </tr>\n",
       "  </thead>\n",
       "  <tbody>\n",
       "    <tr>\n",
       "      <th>0</th>\n",
       "      <td>1.1</td>\n",
       "      <td>39343.0</td>\n",
       "    </tr>\n",
       "    <tr>\n",
       "      <th>1</th>\n",
       "      <td>1.3</td>\n",
       "      <td>46205.0</td>\n",
       "    </tr>\n",
       "    <tr>\n",
       "      <th>2</th>\n",
       "      <td>1.5</td>\n",
       "      <td>37731.0</td>\n",
       "    </tr>\n",
       "    <tr>\n",
       "      <th>3</th>\n",
       "      <td>2.0</td>\n",
       "      <td>43525.0</td>\n",
       "    </tr>\n",
       "    <tr>\n",
       "      <th>4</th>\n",
       "      <td>2.2</td>\n",
       "      <td>39891.0</td>\n",
       "    </tr>\n",
       "  </tbody>\n",
       "</table>\n",
       "</div>"
      ],
      "text/plain": [
       "   YearsExperience   Salary\n",
       "0              1.1  39343.0\n",
       "1              1.3  46205.0\n",
       "2              1.5  37731.0\n",
       "3              2.0  43525.0\n",
       "4              2.2  39891.0"
      ]
     },
     "execution_count": 2,
     "metadata": {},
     "output_type": "execute_result"
    }
   ],
   "source": [
    "data = pd.read_csv('Data.csv')\n",
    "data.head()"
   ]
  },
  {
   "cell_type": "markdown",
   "metadata": {},
   "source": [
    "# 3. Data Split"
   ]
  },
  {
   "cell_type": "code",
   "execution_count": 3,
   "metadata": {
    "ExecuteTime": {
     "end_time": "2020-01-24T16:04:42.828302Z",
     "start_time": "2020-01-24T16:04:42.687612Z"
    }
   },
   "outputs": [],
   "source": [
    "x_train, x_test, y_train, y_test = tts(\n",
    "    data.iloc[:, :-1], data.iloc[:, -1:], test_size=0.1, random_state=400)"
   ]
  },
  {
   "cell_type": "code",
   "execution_count": 4,
   "metadata": {
    "ExecuteTime": {
     "end_time": "2020-01-24T16:04:42.968857Z",
     "start_time": "2020-01-24T16:04:42.828302Z"
    }
   },
   "outputs": [
    {
     "name": "stdout",
     "output_type": "stream",
     "text": [
      "(27, 1) (3, 1) (27, 1) (3, 1)\n"
     ]
    }
   ],
   "source": [
    "print(x_train.shape, x_test.shape, y_train.shape, y_test.shape)"
   ]
  },
  {
   "cell_type": "markdown",
   "metadata": {},
   "source": [
    "# 4. Data Visualize"
   ]
  },
  {
   "cell_type": "code",
   "execution_count": 5,
   "metadata": {
    "ExecuteTime": {
     "end_time": "2020-01-24T16:04:43.328218Z",
     "start_time": "2020-01-24T16:04:42.968857Z"
    },
    "scrolled": true
   },
   "outputs": [
    {
     "data": {
      "image/png": "[encoded data removed]",
      "text/plain": [
       "<Figure size 432x288 with 1 Axes>"
      ]
     },
     "metadata": {
      "needs_background": "light"
     },
     "output_type": "display_data"
    }
   ],
   "source": [
    "plt.figure()\n",
    "plt.scatter(x_train, y_train, label=\"Train\")\n",
    "plt.scatter(x_test, y_test, label=\"Test\")\n",
    "plt.legend()\n",
    "plt.show()"
   ]
  },
  {
   "cell_type": "markdown",
   "metadata": {},
   "source": [
    "# 5. Linear Regression"
   ]
  },
  {
   "cell_type": "code",
   "execution_count": 6,
   "metadata": {
    "ExecuteTime": {
     "end_time": "2020-01-24T16:04:43.390733Z",
     "start_time": "2020-01-24T16:04:43.328218Z"
    }
   },
   "outputs": [],
   "source": [
    "class RegressionModel:\n",
    "    def __init__(self, x, y):\n",
    "        self.scalex = sc()\n",
    "        self.scaley = sc()\n",
    "        self.x = self.add_col(self.scalex.fit_transform(x))\n",
    "        self.y = self.scaley.fit_transform(y)\n",
    "\n",
    "        self.theta = np.random.randn(1, 2)\n",
    "        self.m = x.shape[0]\n",
    "\n",
    "    def add_col(self, x):\n",
    "        m = x.shape[0]\n",
    "        one_mat = np.ones((m, 1))\n",
    "        return np.concatenate([one_mat, x], axis=1)\n",
    "\n",
    "    def check_format(self, x, y=np.array([[]])):\n",
    "        if x.shape[1] == 0:\n",
    "            x = self.x\n",
    "            y = self.y\n",
    "        elif x.shape[1] != 2:\n",
    "            x = self.add_col(self.scalex.fit_transform(x))\n",
    "            if y.shape[1] != 0:\n",
    "                y = self.scaley.fit_transform(y)\n",
    "\n",
    "        return x, y\n",
    "\n",
    "    def pred(self, x=np.array([[]]), real=False):\n",
    "        x, _ = self.check_format(x)\n",
    "        y_pred = np.matmul(x, self.theta.T)\n",
    "\n",
    "        if real:\n",
    "            return self.scaley.inverse_transform(y_pred)\n",
    "\n",
    "        return y_pred\n",
    "\n",
    "    def train(self, epoch=1000, alpha=0.001):\n",
    "\n",
    "        fig = plt.figure()\n",
    "        ax1 = fig.add_subplot(1, 1, 1)\n",
    "\n",
    "        for i in range(epoch):\n",
    "            error = self.pred()-self.y\n",
    "            differ = np.matmul(error.T, self.x)\n",
    "            self.theta -= differ*alpha/self.m\n",
    "\n",
    "            if i % 150 == 0:\n",
    "                ax1.cla()\n",
    "                ax1.scatter(self.x[:, -1], self.y,\n",
    "                            label=\"Actual Value\", c='y', s=50)\n",
    "\n",
    "                y1 = self.pred(self.x)\n",
    "\n",
    "                ax1.plot(self.x[:, -1], y1, label=\"Predicted Line\", linewidth=4)\n",
    "                ax1.set_xlim([-2, 2])\n",
    "                ax1.set_ylim([-2, 2])\n",
    "                ax1.legend()\n",
    "                display(fig)\n",
    "                clear_output(wait=True)\n",
    "\n",
    "    def show(self, x=np.array([[]]), y=np.array([[]])):\n",
    "        x, y = self.check_format(x, y)\n",
    "        y1 = self.pred(x)\n",
    "\n",
    "        plt.figure()\n",
    "        plt.plot(x[:, -1], y1, label=\"Predicted Line\", linewidth=4)\n",
    "        plt.scatter(x[:, -1], y, label=\"Actual Value\", c='y', s=50)\n",
    "        plt.legend()\n",
    "        plt.show()\n",
    "\n",
    "    def r2_score(self, x=np.array([[]]), y=np.array([[]])):\n",
    "        x, y = self.check_format(x, y)\n",
    "        y_mean = np.mean(y)\n",
    "        pred = self.pred(x)\n",
    "\n",
    "        up = sum((y-pred)**2)\n",
    "        down = sum((y-y_mean)**2)\n",
    "\n",
    "        accuracy = float(1 - up/down)\n",
    "\n",
    "        return 'Accuracy = {:.2f}%'.format(accuracy*100)"
   ]
  },
  {
   "cell_type": "markdown",
   "metadata": {},
   "source": [
    "# 6. Model Train"
   ]
  },
  {
   "cell_type": "code",
   "execution_count": 7,
   "metadata": {
    "ExecuteTime": {
     "end_time": "2020-01-24T16:04:52.812317Z",
     "start_time": "2020-01-24T16:04:43.390733Z"
    },
    "scrolled": true
   },
   "outputs": [
    {
     "data": {
      "image/png": "[encoded data removed]",
      "text/plain": [
       "<Figure size 432x288 with 1 Axes>"
      ]
     },
     "metadata": {
      "needs_background": "light"
     },
     "output_type": "display_data"
    }
   ],
   "source": [
    "model = RegressionModel(x_train, y_train)\n",
    "model.train(5000)"
   ]
  },
  {
   "cell_type": "markdown",
   "metadata": {},
   "source": [
    "# 7. Model Performance"
   ]
  },
  {
   "cell_type": "code",
   "execution_count": 8,
   "metadata": {
    "ExecuteTime": {
     "end_time": "2020-01-24T16:04:52.843601Z",
     "start_time": "2020-01-24T16:04:52.812317Z"
    },
    "scrolled": true
   },
   "outputs": [
    {
     "name": "stdout",
     "output_type": "stream",
     "text": [
      "Train Accuracy = Accuracy = 95.62%\n",
      "Test  Accuracy = Accuracy = 97.42%\n"
     ]
    }
   ],
   "source": [
    "print(\"Train Accuracy = {}\".format(model.r2_score()))\n",
    "print(\"Test  Accuracy = {}\".format(model.r2_score(x_test, y_test)))"
   ]
  },
  {
   "cell_type": "markdown",
   "metadata": {},
   "source": [
    "# 8. Model Train Plot"
   ]
  },
  {
   "cell_type": "code",
   "execution_count": 9,
   "metadata": {
    "ExecuteTime": {
     "end_time": "2020-01-24T16:04:53.234146Z",
     "start_time": "2020-01-24T16:04:52.843601Z"
    },
    "scrolled": true
   },
   "outputs": [
    {
     "data": {
      "image/png": "[encoded data removed]",
      "text/plain": [
       "<Figure size 432x288 with 1 Axes>"
      ]
     },
     "metadata": {
      "needs_background": "light"
     },
     "output_type": "display_data"
    }
   ],
   "source": [
    "model.show()"
   ]
  },
  {
   "cell_type": "markdown",
   "metadata": {},
   "source": [
    "# 9. Model Test Plot"
   ]
  },
  {
   "cell_type": "code",
   "execution_count": 10,
   "metadata": {
    "ExecuteTime": {
     "end_time": "2020-01-24T16:04:53.468514Z",
     "start_time": "2020-01-24T16:04:53.234146Z"
    },
    "scrolled": true
   },
   "outputs": [
    {
     "data": {
      "image/png": "[encoded data removed]",
      "text/plain": [
       "<Figure size 432x288 with 1 Axes>"
      ]
     },
     "metadata": {
      "needs_background": "light"
     },
     "output_type": "display_data"
    }
   ],
   "source": [
    "model.show(x_test, y_test)"
   ]
  },
  {
   "cell_type": "markdown",
   "metadata": {},
   "source": [
    "# 10. Model True Prediction (Without Normalization)  "
   ]
  },
  {
   "cell_type": "code",
   "execution_count": 11,
   "metadata": {
    "ExecuteTime": {
     "end_time": "2020-01-24T16:04:53.499775Z",
     "start_time": "2020-01-24T16:04:53.468514Z"
    }
   },
   "outputs": [
    {
     "name": "stdout",
     "output_type": "stream",
     "text": [
      "[[61351.22772802]\n",
      " [59349.89703899]\n",
      " [81364.53461833]]\n",
      "     Salary\n",
      "10  63218.0\n",
      "9   57189.0\n",
      "18  81363.0\n"
     ]
    }
   ],
   "source": [
    "print(model.pred(x_test, real=True))\n",
    "print(y_test)"
   ]
  }
 ],
 "metadata": {
  "kernelspec": {
   "display_name": "Python 3",
   "language": "python",
   "name": "python3"
  },
  "language_info": {
   "codemirror_mode": {
    "name": "ipython",
    "version": 3
   },
   "file_extension": ".py",
   "mimetype": "text/x-python",
   "name": "python",
   "nbconvert_exporter": "python",
   "pygments_lexer": "ipython3",
   "version": "3.7.3"
  },
  "varInspector": {
   "cols": {
    "lenName": 16,
    "lenType": 16,
    "lenVar": 40
   },
   "kernels_config": {
    "python": {
     "delete_cmd_postfix": "",
     "delete_cmd_prefix": "del ",
     "library": "var_list.py",
     "varRefreshCmd": "print(var_dic_list())"
    },
    "r": {
     "delete_cmd_postfix": ") ",
     "delete_cmd_prefix": "rm(",
     "library": "var_list.r",
     "varRefreshCmd": "cat(var_dic_list()) "
    }
   },
   "types_to_exclude": [
    "module",
    "function",
    "builtin_function_or_method",
    "instance",
    "_Feature"
   ],
   "window_display": false
  }
 },
 "nbformat": 4,
 "nbformat_minor": 2
}
