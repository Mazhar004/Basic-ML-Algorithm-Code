{
 "cells": [
  {
   "cell_type": "code",
   "execution_count": 1,
   "metadata": {
    "ExecuteTime": {
     "end_time": "2019-12-18T14:47:35.394480Z",
     "start_time": "2019-12-18T14:47:34.045677Z"
    }
   },
   "outputs": [],
   "source": [
    "import numpy as np\n",
    "import pandas as pd\n",
    "import matplotlib.pyplot as plt\n",
    "\n",
    "\n",
    "np.random.seed(54865)"
   ]
  },
  {
   "cell_type": "markdown",
   "metadata": {},
   "source": [
    "# 1. Dataset Cleanup\n",
    "\n",
    "## Missing Data\n",
    "\n",
    "* ### Replace with mean value\n",
    "\n",
    "## Outliars Data\n",
    "\n",
    "* ### Remove depend on z-score value\n",
    "* ### Threshold for z-score is 1.8"
   ]
  },
  {
   "cell_type": "code",
   "execution_count": 2,
   "metadata": {
    "ExecuteTime": {
     "end_time": "2019-12-18T14:47:35.877404Z",
     "start_time": "2019-12-18T14:47:35.397466Z"
    }
   },
   "outputs": [
    {
     "data": {
      "image/png": "[encoded data removed]",
      "text/plain": [
       "<Figure size 1080x360 with 2 Axes>"
      ]
     },
     "metadata": {
      "needs_background": "light"
     },
     "output_type": "display_data"
    }
   ],
   "source": [
    "data = pd.read_csv('data.csv', header=None)\n",
    "\n",
    "\n",
    "def missing_handle(data):\n",
    "\n",
    "    new_data = pd.DataFrame()\n",
    "    mean_data = data.mean()\n",
    "\n",
    "    for i in data:\n",
    "        new_data[i] = data[:][i].fillna(mean_data[i])\n",
    "    return new_data\n",
    "\n",
    "# Replcae missing value with mean\n",
    "\n",
    "\n",
    "new_data = missing_handle(data)\n",
    "\n",
    "\n",
    "X = new_data.iloc[:, :-1]\n",
    "Y = new_data.iloc[:, -1]\n",
    "\n",
    "plt.figure(figsize=(15, 5))\n",
    "plt.ylim([-3000, 3000])\n",
    "plt.subplot(1, 2, 1)\n",
    "plt.xlabel('Data with outliar')\n",
    "plt.scatter(X, Y)\n",
    "\n",
    "\n",
    "def outliar_handle(data, threshold):\n",
    "\n",
    "    Y_position = data.shape[1]-1\n",
    "    zscore_y = (data[Y_position]-data.mean()[Y_position]) / data.std()[Y_position]\n",
    "\n",
    "    new_data = pd.DataFrame()\n",
    "    new_data = data[abs(zscore_y) < threshold]\n",
    "\n",
    "    return new_data\n",
    "\n",
    "\n",
    "# Remove Outliars using z_score threshold=1.8\n",
    "\n",
    "new_data = outliar_handle(new_data, 1.8)\n",
    "X = new_data.iloc[:, :-1]\n",
    "Y = new_data.iloc[:, -1]\n",
    "\n",
    "\n",
    "plt.subplot(1, 2, 2)\n",
    "plt.ylim([-3000, 3000])\n",
    "plt.scatter(X, Y)\n",
    "plt.xlabel('Data without outliar')\n",
    "plt.show()"
   ]
  },
  {
   "cell_type": "markdown",
   "metadata": {},
   "source": [
    "# 2. Normalize Data\n",
    "\n",
    "* ### I have used Z score formula to normalize data"
   ]
  },
  {
   "cell_type": "code",
   "execution_count": 3,
   "metadata": {
    "ExecuteTime": {
     "end_time": "2019-12-18T14:47:36.138363Z",
     "start_time": "2019-12-18T14:47:35.881388Z"
    }
   },
   "outputs": [
    {
     "data": {
      "image/png": "[encoded data removed]",
      "text/plain": [
       "<Figure size 720x360 with 1 Axes>"
      ]
     },
     "metadata": {
      "needs_background": "light"
     },
     "output_type": "display_data"
    }
   ],
   "source": [
    "def z_normalize(data):\n",
    "    new_data = pd.DataFrame()\n",
    "    length = data.shape[1]\n",
    "\n",
    "    for i in range(length-1):\n",
    "        new_data[i] = (data[i]-np.mean(data[i]))/np.std(data[i])\n",
    "\n",
    "    new_data[length-1] = data[length-1]\n",
    "    return new_data\n",
    "\n",
    "# Normalize Data with Z-Score\n",
    "\n",
    "\n",
    "new_data_norm = z_normalize(new_data)\n",
    "\n",
    "X = new_data_norm.iloc[:, :-1]\n",
    "Y = new_data_norm.iloc[:, -1]\n",
    "\n",
    "plt.figure(figsize=(10, 5))\n",
    "plt.ylim([-3000, 3000])\n",
    "plt.scatter(X, Y)\n",
    "plt.show()"
   ]
  },
  {
   "cell_type": "markdown",
   "metadata": {},
   "source": [
    "# 3. Split Data\n",
    "\n",
    "* ### I have splited data into 4 section"
   ]
  },
  {
   "cell_type": "code",
   "execution_count": 4,
   "metadata": {
    "ExecuteTime": {
     "end_time": "2019-12-18T14:47:36.160347Z",
     "start_time": "2019-12-18T14:47:36.142349Z"
    }
   },
   "outputs": [],
   "source": [
    "def data_split(data, k):\n",
    "\n",
    "    np.random.shuffle(data.values)\n",
    "\n",
    "    length = data.values.shape[0]//k\n",
    "\n",
    "    data_list = []\n",
    "    initial = 0\n",
    "\n",
    "    for i in range(1, k+1):\n",
    "        if i == k:\n",
    "            data_list.append(data.iloc[initial:].values)\n",
    "        else:\n",
    "            data_list.append(data.iloc[initial:i*length].values)\n",
    "        initial = i*length\n",
    "    return data_list\n",
    "\n",
    "\n",
    "data_list = data_split(new_data_norm, 4)"
   ]
  },
  {
   "cell_type": "markdown",
   "metadata": {},
   "source": [
    "#  4. Regression Analytical Solution"
   ]
  },
  {
   "cell_type": "code",
   "execution_count": 5,
   "metadata": {
    "ExecuteTime": {
     "end_time": "2019-12-18T14:47:36.259329Z",
     "start_time": "2019-12-18T14:47:36.165355Z"
    }
   },
   "outputs": [
    {
     "name": "stdout",
     "output_type": "stream",
     "text": [
      "Part 1 for testing = 87.60%\n",
      "\n",
      "Part 2 for testing = 70.20%\n",
      "\n",
      "Part 3 for testing = 73.55%\n",
      "\n",
      "Part 4 for testing = 51.51%\n",
      "\n",
      "Best Value for c & m = [[-338.12845837]] [[747.05382461]]\n",
      "Best Accuracy        = 87.60%\n",
      "Average Accuracy     = 70.71%\n"
     ]
    }
   ],
   "source": [
    "def regression(data):\n",
    "    x = data[:, :-1]\n",
    "    y = data[:, -1:]\n",
    "    x_mean = np.mean(x)\n",
    "    y_mean = np.mean(y)\n",
    "\n",
    "    x_difference = (x-x_mean)\n",
    "    y_difference = (y-y_mean)\n",
    "\n",
    "    m = np.matmul(x_difference.T, y_difference)/sum(x_difference**2)\n",
    "\n",
    "    b = y_mean - m*x_mean\n",
    "\n",
    "    return m, b\n",
    "\n",
    "\n",
    "def reg_r2_score(data, m, b):\n",
    "    x = data[:, :-1]\n",
    "    y = data[:, -1:]\n",
    "    y_mean = np.mean(y)\n",
    "    y_pred = m*x+b\n",
    "    return float(1-sum((y-y_pred)**2)/sum((y-y_mean)**2))*100\n",
    "\n",
    "\n",
    "index = np.arange(4)\n",
    "best_m, best_c, best_acc = 0, 0, 0\n",
    "avg_ac = 0\n",
    "\n",
    "for i in index:\n",
    "\n",
    "    train = [data_list[j] for j in index[index != i]]\n",
    "\n",
    "    train_data = np.concatenate([*train], axis=0)\n",
    "    val_data = data_list[i]\n",
    "\n",
    "    m, b = regression(train_data)\n",
    "\n",
    "    accuracy = reg_r2_score(val_data, m, b)\n",
    "    avg_ac += accuracy\n",
    "    best_m, best_c, best_acc = (m, b, accuracy) if accuracy > best_acc else (best_m, best_c, best_acc)\n",
    "\n",
    "    print('Part {} for testing = {:.2f}%'.format(i+1, accuracy), end=\"\\n\\n\")\n",
    "\n",
    "\n",
    "print('Best Value for c & m = {} {}'.format(best_c, best_m))\n",
    "print('Best Accuracy        = {:0.2f}%'.format(best_acc))\n",
    "print('Average Accuracy     = {:0.2f}%'.format(avg_ac/4))"
   ]
  },
  {
   "cell_type": "markdown",
   "metadata": {},
   "source": [
    "# 5. Regression Gradient Descent\n",
    "* ### Learning rate alpha = 0.001 have used"
   ]
  },
  {
   "cell_type": "code",
   "execution_count": 6,
   "metadata": {
    "ExecuteTime": {
     "end_time": "2019-12-18T14:47:42.383380Z",
     "start_time": "2019-12-18T14:47:36.263328Z"
    }
   },
   "outputs": [
    {
     "name": "stdout",
     "output_type": "stream",
     "text": [
      "Part 1 for testing = 87.60%\n",
      "Part 2 for testing = 70.20%\n",
      "Part 3 for testing = 73.55%\n",
      "Part 4 for testing = 51.51%\n",
      "Best Value for theta = [[-338.12845837  747.05382461]]\n",
      "Best Accuracy        = 87.60%\n",
      "Average Accuracy     = 70.71%\n"
     ]
    },
    {
     "data": {
      "image/png": "[encoded data removed]",
      "text/plain": [
       "<Figure size 1440x720 with 4 Axes>"
      ]
     },
     "metadata": {
      "needs_background": "light"
     },
     "output_type": "display_data"
    }
   ],
   "source": [
    "def xy_split(data):\n",
    "    '''\n",
    "        1. Divide data into 2 section X & Y\n",
    "        2. Padding 1 at first position of each row in X \n",
    "    '''\n",
    "    length = data.shape[0]\n",
    "    x = np.concatenate([np.ones((length, 1)), data[:, :-1]], axis=1)\n",
    "    y = data[:, -1:]\n",
    "\n",
    "    return (x, y)\n",
    "\n",
    "\n",
    "def predict(x, theta):\n",
    "\n",
    "    return np.matmul(x, theta.T)\n",
    "\n",
    "\n",
    "def grad(x, y, theta, epoch):\n",
    "\n",
    "    for i in range(epoch):\n",
    "\n",
    "        y_pred = predict(x, theta)\n",
    "        error = y_pred - y\n",
    "\n",
    "        dif = np.matmul(error.T, x)\n",
    "        dif = (0.001*dif/error.shape[0])\n",
    "\n",
    "        theta -= dif\n",
    "\n",
    "    return theta\n",
    "\n",
    "\n",
    "def r2_score(x, y, theta):\n",
    "\n",
    "    y_mean = np.mean(y)\n",
    "    pred = predict(x, theta)\n",
    "\n",
    "    up = sum((y-pred)**2)\n",
    "    down = sum((y-y_mean)**2)\n",
    "\n",
    "    accuracy = float(1 - up/down)\n",
    "\n",
    "    return accuracy*100\n",
    "\n",
    "\n",
    "plt.figure(figsize=(20, 10))\n",
    "best_theta, best_accuracy, avg_ac = np.array([]), 0, 0\n",
    "\n",
    "# Data split into 4 section\n",
    "\n",
    "index = np.arange(4)\n",
    "\n",
    "for i in index:\n",
    "\n",
    "    train = [data_list[j] for j in index[index != i]]\n",
    "\n",
    "    train_data = np.concatenate([*train], axis=0)\n",
    "    val_data = data_list[i]\n",
    "\n",
    "    X_train, Y_train = xy_split(train_data)\n",
    "    X_test, Y_test = xy_split(val_data)\n",
    "\n",
    "    theta = np.random.rand(2).reshape(1, 2)\n",
    "\n",
    "    theta = grad(X_train, Y_train, theta, 100000)\n",
    "\n",
    "    accuracy = r2_score(X_test, Y_test, theta)\n",
    "\n",
    "    avg_ac += accuracy\n",
    "    print('Part {} for testing = {:0.2f}%'.format(i+1, accuracy))\n",
    "    best_accuracy, best_theta = (accuracy, theta) if best_accuracy < accuracy else (best_accuracy, best_theta)\n",
    "\n",
    "    plt.subplot(2, 2, i+1)\n",
    "\n",
    "    plt.plot(X_test[:, 1], predict(X_test, theta), c='r', label=\"Predicted\")\n",
    "    plt.scatter(X_test[:, 1], Y_test, label=\"Actual\")\n",
    "    plt.legend()\n",
    "    plt.xlabel('Accuracy={:.2f}'.format(accuracy))\n",
    "\n",
    "\n",
    "print('Best Value for theta = {}'.format(best_theta))\n",
    "print('Best Accuracy        = {:0.2f}%'.format(best_accuracy))\n",
    "print('Average Accuracy     = {:0.2f}%'.format(avg_ac/4))\n",
    "\n",
    "plt.show()"
   ]
  },
  {
   "cell_type": "markdown",
   "metadata": {},
   "source": [
    "## 6. Learning Parmeter Value for Model Performance\n",
    "\n",
    "### Parameter value\n",
    "* Alpha = 0.001\n",
    "* Theta = [[-338.12845837  747.05382461]] \n",
    "    * where,\n",
    "        * c = -338.12845837\n",
    "        * m = 747.05382461\n",
    "        \n",
    "### Model Performance\n",
    "* Average Accuracy = 70.71%\n",
    "* Best Accuracy    = 87.60%\n",
    "\n",
    "### Approach\n",
    "\n",
    "* Data splited into 4 section\n",
    "* 3 out of 4 selected for Train & rest section selected for Test\n",
    "* Train model for every possible combination of 3 section out of 4"
   ]
  }
 ],
 "metadata": {
  "kernelspec": {
   "display_name": "Python 3",
   "language": "python",
   "name": "python3"
  },
  "language_info": {
   "codemirror_mode": {
    "name": "ipython",
    "version": 3
   },
   "file_extension": ".py",
   "mimetype": "text/x-python",
   "name": "python",
   "nbconvert_exporter": "python",
   "pygments_lexer": "ipython3",
   "version": "3.7.3"
  }
 },
 "nbformat": 4,
 "nbformat_minor": 2
}
