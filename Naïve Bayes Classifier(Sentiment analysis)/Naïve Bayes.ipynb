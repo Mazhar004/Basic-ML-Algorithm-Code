{
 "cells": [
  {
   "cell_type": "markdown",
   "metadata": {},
   "source": [
    "# Import Library"
   ]
  },
  {
   "cell_type": "code",
   "execution_count": 1,
   "metadata": {
    "ExecuteTime": {
     "end_time": "2019-12-19T15:15:53.519751Z",
     "start_time": "2019-12-19T15:15:52.437882Z"
    }
   },
   "outputs": [],
   "source": [
    "import pandas as pd\n",
    "import numpy as np\n",
    "np.random.seed(9)"
   ]
  },
  {
   "cell_type": "markdown",
   "metadata": {},
   "source": [
    "# Data Loading"
   ]
  },
  {
   "cell_type": "code",
   "execution_count": 2,
   "metadata": {
    "ExecuteTime": {
     "end_time": "2019-12-19T15:15:53.581706Z",
     "start_time": "2019-12-19T15:15:53.523716Z"
    }
   },
   "outputs": [
    {
     "data": {
      "text/html": [
       "<div>\n",
       "<style scoped>\n",
       "    .dataframe tbody tr th:only-of-type {\n",
       "        vertical-align: middle;\n",
       "    }\n",
       "\n",
       "    .dataframe tbody tr th {\n",
       "        vertical-align: top;\n",
       "    }\n",
       "\n",
       "    .dataframe thead th {\n",
       "        text-align: right;\n",
       "    }\n",
       "</style>\n",
       "<table border=\"1\" class=\"dataframe\">\n",
       "  <thead>\n",
       "    <tr style=\"text-align: right;\">\n",
       "      <th></th>\n",
       "      <th>0</th>\n",
       "      <th>1</th>\n",
       "    </tr>\n",
       "  </thead>\n",
       "  <tbody>\n",
       "    <tr>\n",
       "      <th>0</th>\n",
       "      <td>A very, very, very slow-moving, aimless movie ...</td>\n",
       "      <td>0</td>\n",
       "    </tr>\n",
       "    <tr>\n",
       "      <th>1</th>\n",
       "      <td>Not sure who was more lost - the flat characte...</td>\n",
       "      <td>0</td>\n",
       "    </tr>\n",
       "    <tr>\n",
       "      <th>2</th>\n",
       "      <td>Attempting artiness with black &amp; white and cle...</td>\n",
       "      <td>0</td>\n",
       "    </tr>\n",
       "    <tr>\n",
       "      <th>3</th>\n",
       "      <td>Very little music or anything to speak of.</td>\n",
       "      <td>0</td>\n",
       "    </tr>\n",
       "    <tr>\n",
       "      <th>4</th>\n",
       "      <td>The best scene in the movie was when Gerardo i...</td>\n",
       "      <td>1</td>\n",
       "    </tr>\n",
       "  </tbody>\n",
       "</table>\n",
       "</div>"
      ],
      "text/plain": [
       "                                                   0  1\n",
       "0  A very, very, very slow-moving, aimless movie ...  0\n",
       "1  Not sure who was more lost - the flat characte...  0\n",
       "2  Attempting artiness with black & white and cle...  0\n",
       "3       Very little music or anything to speak of.    0\n",
       "4  The best scene in the movie was when Gerardo i...  1"
      ]
     },
     "execution_count": 2,
     "metadata": {},
     "output_type": "execute_result"
    }
   ],
   "source": [
    "data = pd.read_csv('sentiments.tsv', sep='\\t', header=None)\n",
    "data.head()"
   ]
  },
  {
   "cell_type": "markdown",
   "metadata": {},
   "source": [
    "# 1. Data Split"
   ]
  },
  {
   "cell_type": "code",
   "execution_count": 3,
   "metadata": {
    "ExecuteTime": {
     "end_time": "2019-12-19T15:15:53.665693Z",
     "start_time": "2019-12-19T15:15:53.587707Z"
    }
   },
   "outputs": [
    {
     "name": "stdout",
     "output_type": "stream",
     "text": [
      "Train Data Shape = (654, 2)\n",
      "Test  Data Shape = (155, 2)\n"
     ]
    }
   ],
   "source": [
    "def data_split(data):\n",
    "\n",
    "    split_len = np.random.rand(len(data)) < .8\n",
    "\n",
    "    train = data[split_len]\n",
    "    test = data[~split_len]\n",
    "\n",
    "    return train, test\n",
    "\n",
    "\n",
    "train, test = data_split(data)\n",
    "print('Train Data Shape = {}\\nTest  Data Shape = {}'.format(train.shape, test.shape))"
   ]
  },
  {
   "cell_type": "markdown",
   "metadata": {},
   "source": [
    "# Data Preprocess\n",
    "## 1. Same Class Data Merge"
   ]
  },
  {
   "cell_type": "code",
   "execution_count": 4,
   "metadata": {
    "ExecuteTime": {
     "end_time": "2019-12-19T15:15:53.773679Z",
     "start_time": "2019-12-19T15:15:53.669695Z"
    }
   },
   "outputs": [
    {
     "name": "stdout",
     "output_type": "stream",
     "text": [
      "                                              string y_count\n",
      "0  A very, very, very slow-moving, aimless movie ...     321\n",
      "1  The best scene in the movie was when Gerardo i...     333\n"
     ]
    }
   ],
   "source": [
    "def merge_data(train):\n",
    "\n",
    "    train_class = train[1].unique()\n",
    "\n",
    "    process_data = pd.DataFrame(\n",
    "        index=train_class, columns=['string', 'y_count'])\n",
    "\n",
    "    for i in train_class:\n",
    "        process_data.iloc[i][0] = ' '.join(train[train[1] == i][0])\n",
    "        process_data.iloc[i][1] = train[train[1] == i].shape[0]\n",
    "    return process_data\n",
    "\n",
    "\n",
    "train_merge = merge_data(train)\n",
    "print(train_merge)"
   ]
  },
  {
   "cell_type": "markdown",
   "metadata": {},
   "source": [
    "# Data Preprocess\n",
    "## 2. Remove Special Character from Sentence"
   ]
  },
  {
   "cell_type": "code",
   "execution_count": 5,
   "metadata": {
    "ExecuteTime": {
     "end_time": "2019-12-19T15:15:53.864663Z",
     "start_time": "2019-12-19T15:15:53.778680Z"
    }
   },
   "outputs": [
    {
     "data": {
      "text/html": [
       "<div>\n",
       "<style scoped>\n",
       "    .dataframe tbody tr th:only-of-type {\n",
       "        vertical-align: middle;\n",
       "    }\n",
       "\n",
       "    .dataframe tbody tr th {\n",
       "        vertical-align: top;\n",
       "    }\n",
       "\n",
       "    .dataframe thead th {\n",
       "        text-align: right;\n",
       "    }\n",
       "</style>\n",
       "<table border=\"1\" class=\"dataframe\">\n",
       "  <thead>\n",
       "    <tr style=\"text-align: right;\">\n",
       "      <th></th>\n",
       "      <th>string</th>\n",
       "      <th>y_count</th>\n",
       "    </tr>\n",
       "  </thead>\n",
       "  <tbody>\n",
       "    <tr>\n",
       "      <th>0</th>\n",
       "      <td>a very very very slow moving aimless movie abo...</td>\n",
       "      <td>321</td>\n",
       "    </tr>\n",
       "    <tr>\n",
       "      <th>1</th>\n",
       "      <td>the best scene in the movie was when gerardo i...</td>\n",
       "      <td>333</td>\n",
       "    </tr>\n",
       "  </tbody>\n",
       "</table>\n",
       "</div>"
      ],
      "text/plain": [
       "                                              string y_count\n",
       "0  a very very very slow moving aimless movie abo...     321\n",
       "1  the best scene in the movie was when gerardo i...     333"
      ]
     },
     "execution_count": 5,
     "metadata": {},
     "output_type": "execute_result"
    }
   ],
   "source": [
    "def preprocess(data):\n",
    "\n",
    "    new_data = pd.DataFrame(data)\n",
    "    new_data.iloc[:, 0] = new_data.iloc[:, 0].str.lower()\n",
    "\n",
    "    for i in [',', '-', '.', '?', '(', ')', '\"']:\n",
    "        new_data.iloc[:, 0] = new_data.iloc[:, 0].str.replace(i, ' ')\n",
    "\n",
    "    new_data.iloc[:, 0] = new_data.iloc[:, 0].map( lambda x: ' '.join(x.split()))\n",
    "\n",
    "    return new_data\n",
    "\n",
    "\n",
    "train_pre = preprocess(train_merge)\n",
    "train_pre.head()"
   ]
  },
  {
   "cell_type": "markdown",
   "metadata": {},
   "source": [
    "# 2. Vocabulary on Training Data Set\n",
    "## 2.1 Create Vocabulary Dictionary"
   ]
  },
  {
   "cell_type": "code",
   "execution_count": 6,
   "metadata": {
    "ExecuteTime": {
     "end_time": "2019-12-19T15:15:53.963650Z",
     "start_time": "2019-12-19T15:15:53.869664Z"
    }
   },
   "outputs": [
    {
     "data": {
      "text/plain": [
       "2701"
      ]
     },
     "execution_count": 6,
     "metadata": {},
     "output_type": "execute_result"
    }
   ],
   "source": [
    "def vocabulary(train_pre):\n",
    "\n",
    "    data_vocab = {}\n",
    "\n",
    "    for i in train_pre.iloc[:, 0]:\n",
    "\n",
    "        for j in i.split():\n",
    "            try:\n",
    "                data_vocab[j] += 1\n",
    "            except:\n",
    "                data_vocab[j] = 1\n",
    "\n",
    "    return data_vocab\n",
    "\n",
    "\n",
    "data_vocab = vocabulary(train_pre)\n",
    "feature_name = list(data_vocab)\n",
    "len(data_vocab)"
   ]
  },
  {
   "cell_type": "markdown",
   "metadata": {},
   "source": [
    "# 2. Vocabulary on Training Data Set\n",
    "## 2.2 Create Vocabulary Feature Matrix"
   ]
  },
  {
   "cell_type": "code",
   "execution_count": 7,
   "metadata": {
    "ExecuteTime": {
     "end_time": "2019-12-19T15:15:55.957340Z",
     "start_time": "2019-12-19T15:15:53.969650Z"
    }
   },
   "outputs": [
    {
     "name": "stdout",
     "output_type": "stream",
     "text": [
      "     a very slow moving aimless movie about distressed drifting young  ...  :  \\\n",
      "0  118   25    5      3       1    59    17          1        1     1  ...  0   \n",
      "1  207   24    1      1       0    73    17          0        0     2  ...  1   \n",
      "\n",
      "  anyway flowed smoothly bonding hoot cat  n delight    Y  \n",
      "0      0      0        0       0    0   0  0       0  321  \n",
      "1      1      1        1       1    1   1  1       1  333  \n",
      "\n",
      "[2 rows x 2702 columns]\n"
     ]
    }
   ],
   "source": [
    "def feature_mat(feature_name, train_pre):\n",
    "\n",
    "    x = np.zeros((train_pre.shape[0], len(feature_name)))\n",
    "    try:\n",
    "        y = np.array([train_pre.iloc[:, 1].values]).T\n",
    "        zero_data = np.concatenate([x, y], axis=1)\n",
    "        train_mat = pd.DataFrame(zero_data, columns=feature_name+['Y'])\n",
    "\n",
    "    except:\n",
    "        x = np.zeros((train_pre.shape[0], len(feature_name)))\n",
    "        train_mat = pd.DataFrame(x, columns=feature_name)\n",
    "\n",
    "    k = 0\n",
    "    for i in train_pre.iloc[:, 0]:\n",
    "        for j in i.split():\n",
    "            try:\n",
    "                train_mat[j][k] += 1\n",
    "            except:\n",
    "                train_mat[j][k] = 1\n",
    "        k += 1\n",
    "\n",
    "    return train_mat\n",
    "\n",
    "\n",
    "train_mat = feature_mat(feature_name, train_pre)\n",
    "print(train_mat)"
   ]
  },
  {
   "cell_type": "markdown",
   "metadata": {},
   "source": [
    "# (3,4). Probability Calculate\n",
    "## 3. Prior Probability for Class\n",
    "## 4. Conditional Probability of Vocabulary for Each Class"
   ]
  },
  {
   "cell_type": "code",
   "execution_count": 8,
   "metadata": {
    "ExecuteTime": {
     "end_time": "2019-12-19T15:15:57.181156Z",
     "start_time": "2019-12-19T15:15:55.962342Z"
    }
   },
   "outputs": [
    {
     "data": {
      "text/html": [
       "<div>\n",
       "<style scoped>\n",
       "    .dataframe tbody tr th:only-of-type {\n",
       "        vertical-align: middle;\n",
       "    }\n",
       "\n",
       "    .dataframe tbody tr th {\n",
       "        vertical-align: top;\n",
       "    }\n",
       "\n",
       "    .dataframe thead th {\n",
       "        text-align: right;\n",
       "    }\n",
       "</style>\n",
       "<table border=\"1\" class=\"dataframe\">\n",
       "  <thead>\n",
       "    <tr style=\"text-align: right;\">\n",
       "      <th></th>\n",
       "      <th>a</th>\n",
       "      <th>very</th>\n",
       "      <th>slow</th>\n",
       "      <th>moving</th>\n",
       "      <th>aimless</th>\n",
       "      <th>movie</th>\n",
       "      <th>about</th>\n",
       "      <th>distressed</th>\n",
       "      <th>drifting</th>\n",
       "      <th>young</th>\n",
       "      <th>...</th>\n",
       "      <th>:</th>\n",
       "      <th>anyway</th>\n",
       "      <th>flowed</th>\n",
       "      <th>smoothly</th>\n",
       "      <th>bonding</th>\n",
       "      <th>hoot</th>\n",
       "      <th>cat</th>\n",
       "      <th>n</th>\n",
       "      <th>delight</th>\n",
       "      <th>Y</th>\n",
       "    </tr>\n",
       "  </thead>\n",
       "  <tbody>\n",
       "    <tr>\n",
       "      <th>0</th>\n",
       "      <td>0.016221</td>\n",
       "      <td>0.003544</td>\n",
       "      <td>0.000818</td>\n",
       "      <td>0.000545</td>\n",
       "      <td>0.000273</td>\n",
       "      <td>0.008179</td>\n",
       "      <td>0.002454</td>\n",
       "      <td>0.000273</td>\n",
       "      <td>0.000273</td>\n",
       "      <td>0.000273</td>\n",
       "      <td>...</td>\n",
       "      <td>0.000136</td>\n",
       "      <td>0.000136</td>\n",
       "      <td>0.000136</td>\n",
       "      <td>0.000136</td>\n",
       "      <td>0.000136</td>\n",
       "      <td>0.000136</td>\n",
       "      <td>0.000136</td>\n",
       "      <td>0.000136</td>\n",
       "      <td>0.000136</td>\n",
       "      <td>0.490826</td>\n",
       "    </tr>\n",
       "    <tr>\n",
       "      <th>1</th>\n",
       "      <td>0.023194</td>\n",
       "      <td>0.002788</td>\n",
       "      <td>0.000223</td>\n",
       "      <td>0.000223</td>\n",
       "      <td>0.000112</td>\n",
       "      <td>0.008252</td>\n",
       "      <td>0.002007</td>\n",
       "      <td>0.000112</td>\n",
       "      <td>0.000112</td>\n",
       "      <td>0.000335</td>\n",
       "      <td>...</td>\n",
       "      <td>0.000223</td>\n",
       "      <td>0.000223</td>\n",
       "      <td>0.000223</td>\n",
       "      <td>0.000223</td>\n",
       "      <td>0.000223</td>\n",
       "      <td>0.000223</td>\n",
       "      <td>0.000223</td>\n",
       "      <td>0.000223</td>\n",
       "      <td>0.000223</td>\n",
       "      <td>0.509174</td>\n",
       "    </tr>\n",
       "  </tbody>\n",
       "</table>\n",
       "<p>2 rows × 2702 columns</p>\n",
       "</div>"
      ],
      "text/plain": [
       "          a      very      slow    moving   aimless     movie     about  \\\n",
       "0  0.016221  0.003544  0.000818  0.000545  0.000273  0.008179  0.002454   \n",
       "1  0.023194  0.002788  0.000223  0.000223  0.000112  0.008252  0.002007   \n",
       "\n",
       "   distressed  drifting     young  ...         :    anyway    flowed  \\\n",
       "0    0.000273  0.000273  0.000273  ...  0.000136  0.000136  0.000136   \n",
       "1    0.000112  0.000112  0.000335  ...  0.000223  0.000223  0.000223   \n",
       "\n",
       "   smoothly   bonding      hoot       cat         n   delight         Y  \n",
       "0  0.000136  0.000136  0.000136  0.000136  0.000136  0.000136  0.490826  \n",
       "1  0.000223  0.000223  0.000223  0.000223  0.000223  0.000223  0.509174  \n",
       "\n",
       "[2 rows x 2702 columns]"
      ]
     },
     "execution_count": 8,
     "metadata": {},
     "output_type": "execute_result"
    }
   ],
   "source": [
    "def prior_calculate(train_mat, feature_name):\n",
    "\n",
    "    V = len(feature_name)\n",
    "    total_class = train_mat.index.values\n",
    "\n",
    "    row = range(total_class.shape[0])\n",
    "    column = len(feature_name)\n",
    "\n",
    "    prior_mat = np.zeros((len(row), column+1))\n",
    "\n",
    "    prior_mat = pd.DataFrame(\n",
    "        prior_mat, index=total_class, columns=feature_name+['Y'])\n",
    "    total_output = train_mat.iloc[:, -1].sum()\n",
    "\n",
    "    for k, i in enumerate(total_class):\n",
    "\n",
    "        sample = train_mat.iloc[i, :-1]\n",
    "        total_word = sample.sum()\n",
    "\n",
    "        for j in feature_name:\n",
    "            prior_mat.iloc[k][j] = (sample[j]+1)/(total_word+V)\n",
    "\n",
    "        prior_mat.iloc[k]['Y'] = train_mat.iloc[i, -1]/total_output\n",
    "\n",
    "    return prior_mat, total_class\n",
    "\n",
    "\n",
    "prior_prob, total_class = prior_calculate(train_mat, feature_name)\n",
    "prior_prob"
   ]
  },
  {
   "cell_type": "markdown",
   "metadata": {},
   "source": [
    "# Test data preprocess"
   ]
  },
  {
   "cell_type": "code",
   "execution_count": 9,
   "metadata": {
    "ExecuteTime": {
     "end_time": "2019-12-19T15:15:57.220150Z",
     "start_time": "2019-12-19T15:15:57.184155Z"
    }
   },
   "outputs": [
    {
     "data": {
      "text/html": [
       "<div>\n",
       "<style scoped>\n",
       "    .dataframe tbody tr th:only-of-type {\n",
       "        vertical-align: middle;\n",
       "    }\n",
       "\n",
       "    .dataframe tbody tr th {\n",
       "        vertical-align: top;\n",
       "    }\n",
       "\n",
       "    .dataframe thead th {\n",
       "        text-align: right;\n",
       "    }\n",
       "</style>\n",
       "<table border=\"1\" class=\"dataframe\">\n",
       "  <thead>\n",
       "    <tr style=\"text-align: right;\">\n",
       "      <th></th>\n",
       "      <th>0</th>\n",
       "      <th>1</th>\n",
       "    </tr>\n",
       "  </thead>\n",
       "  <tbody>\n",
       "    <tr>\n",
       "      <th>11</th>\n",
       "      <td>the movie showed a lot of florida at it's best...</td>\n",
       "      <td>1</td>\n",
       "    </tr>\n",
       "    <tr>\n",
       "      <th>12</th>\n",
       "      <td>the songs were the best and the muppets were s...</td>\n",
       "      <td>1</td>\n",
       "    </tr>\n",
       "    <tr>\n",
       "      <th>16</th>\n",
       "      <td>this review is long overdue since i consider a...</td>\n",
       "      <td>1</td>\n",
       "    </tr>\n",
       "    <tr>\n",
       "      <th>22</th>\n",
       "      <td>how can anyone in their right mind ask for any...</td>\n",
       "      <td>1</td>\n",
       "    </tr>\n",
       "    <tr>\n",
       "      <th>24</th>\n",
       "      <td>yes this film does require a rather significan...</td>\n",
       "      <td>1</td>\n",
       "    </tr>\n",
       "  </tbody>\n",
       "</table>\n",
       "</div>"
      ],
      "text/plain": [
       "                                                    0  1\n",
       "11  the movie showed a lot of florida at it's best...  1\n",
       "12  the songs were the best and the muppets were s...  1\n",
       "16  this review is long overdue since i consider a...  1\n",
       "22  how can anyone in their right mind ask for any...  1\n",
       "24  yes this film does require a rather significan...  1"
      ]
     },
     "execution_count": 9,
     "metadata": {},
     "output_type": "execute_result"
    }
   ],
   "source": [
    "test_pre = preprocess(test)\n",
    "test_pre.head()"
   ]
  },
  {
   "cell_type": "markdown",
   "metadata": {},
   "source": [
    "# 5. Posterior Probability for Each Class for given Test Instance\n",
    "\n",
    "## Calculate TP,TN,FP,FN for All Test Instance"
   ]
  },
  {
   "cell_type": "code",
   "execution_count": 10,
   "metadata": {
    "ExecuteTime": {
     "end_time": "2019-12-19T15:15:59.772754Z",
     "start_time": "2019-12-19T15:15:57.225149Z"
    }
   },
   "outputs": [
    {
     "name": "stdout",
     "output_type": "stream",
     "text": [
      "TP = 73\n",
      "TN = 48\n",
      "FP = 19\n",
      "FN = 15\n"
     ]
    }
   ],
   "source": [
    "def posterior(feature_row, prior_prob, train_mat):\n",
    "\n",
    "    data_vocab = vocabulary(feature_row)\n",
    "    feature_name = list(data_vocab)\n",
    "    length = prior_prob.shape[1]\n",
    "\n",
    "    test_mat = feature_mat(feature_name, feature_row)\n",
    "\n",
    "    res = {}\n",
    "    for i in prior_prob.index.values:\n",
    "\n",
    "        total_y = train_mat['Y'][i]\n",
    "\n",
    "        res[i] = prior_prob.iloc[i, -1]\n",
    "\n",
    "        for j in feature_name:\n",
    "            try:\n",
    "                res[i] *= prior_prob.loc[i][j]**test_mat[j][0]\n",
    "            except:\n",
    "                res[i] *= (1/(total_y+length))**test_mat[j][0]\n",
    "\n",
    "    return sorted(res, key=lambda x: res[x], reverse=True)[0]\n",
    "\n",
    "\n",
    "TP, TN, FP, FN = 0, 0, 0, 0\n",
    "\n",
    "for i in range(test.shape[0]):\n",
    "\n",
    "    x = (posterior(test.iloc[i:i+1, :-1],\n",
    "                   prior_prob, train_mat), test.iloc[i, -1])\n",
    "    if x[0] == x[1]:\n",
    "        TP, TN = (TP+1, TN+0) if x[0] == 1 else (TP+0, TN+1)\n",
    "    else:\n",
    "        FP, FN = (FP+1, FN+0) if x[0] == 1 else (FP+0, FN+1)\n",
    "\n",
    "print('TP = {}\\nTN = {}\\nFP = {}\\nFN = {}'.format(TP, TN, FP, FN))"
   ]
  },
  {
   "cell_type": "markdown",
   "metadata": {},
   "source": [
    "# Measure Performance of This Model"
   ]
  },
  {
   "cell_type": "code",
   "execution_count": 11,
   "metadata": {
    "ExecuteTime": {
     "end_time": "2019-12-19T15:15:59.795750Z",
     "start_time": "2019-12-19T15:15:59.776755Z"
    }
   },
   "outputs": [
    {
     "name": "stdout",
     "output_type": "stream",
     "text": [
      "Precision = 79.35%\n",
      "Recall    = 82.95%\n",
      "F1 Score  = 81.11%\n",
      "Accuracy  = 78.06%\n"
     ]
    }
   ],
   "source": [
    "def performance(TP, TN, FP, FN):\n",
    "    precision = 100*TP/(TP+FP)\n",
    "    recall = 100*TP/(TP+FN)\n",
    "    f1_score = (2*precision*recall)/(precision+recall)\n",
    "    accuracy = 100*(TP+TN)/(TP+TN+FP+FN)\n",
    "\n",
    "    return precision, recall, f1_score, accuracy\n",
    "\n",
    "\n",
    "print('Precision = {:.2f}%\\nRecall    = {:.2f}%\\nF1 Score  = {:.2f}%\\nAccuracy  = {:.2f}%'.format(*performance(TP, TN, FP, FN)))"
   ]
  }
 ],
 "metadata": {
  "kernelspec": {
   "display_name": "Python 3",
   "language": "python",
   "name": "python3"
  },
  "language_info": {
   "codemirror_mode": {
    "name": "ipython",
    "version": 3
   },
   "file_extension": ".py",
   "mimetype": "text/x-python",
   "name": "python",
   "nbconvert_exporter": "python",
   "pygments_lexer": "ipython3",
   "version": "3.7.3"
  }
 },
 "nbformat": 4,
 "nbformat_minor": 2
}
